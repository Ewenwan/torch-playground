{
 "cells": [
  {
   "cell_type": "code",
   "execution_count": 1,
   "metadata": {
    "collapsed": true
   },
   "outputs": [],
   "source": [
    "import matplotlib.pyplot as plt\n",
    "import numpy as np\n",
    "%matplotlib inline"
   ]
  },
  {
   "cell_type": "code",
   "execution_count": 2,
   "metadata": {
    "collapsed": false
   },
   "outputs": [],
   "source": [
    "data = [\n",
    "    ['32Bits', 0.95],\n",
    "    ['16Bits', 0.95],\n",
    "    ['8Bits', 0.95],\n",
    "    ['6Bits', 1.07],\n",
    "    ['4Bits', 2.88],\n",
    "    #[2, 87.75]\n",
    "]\n",
    "x, y = zip(*data)\n",
    "index = np.arange(len(data)) + 0.4"
   ]
  },
  {
   "cell_type": "code",
   "execution_count": 3,
   "metadata": {
    "collapsed": false
   },
   "outputs": [
    {
     "data": {
      "image/png": "[encoded data removed]",
      "text/plain": [
       "<matplotlib.figure.Figure at 0x7fbd8f4b3a50>"
      ]
     },
     "metadata": {},
     "output_type": "display_data"
    }
   ],
   "source": [
    "rects = plt.bar(index, y, 0.4, alpha=0.4)\n",
    "plt.xlabel('Bitwidth')\n",
    "plt.ylabel('Error (%)')\n",
    "plt.title('Error vs. Bitwidth of LeNet')\n",
    "plt.xticks(index+0.2, x)\n",
    "plt.ylim(0, 3.5)\n",
    "for i, rect in enumerate(rects):\n",
    "    height = rect.get_height()\n",
    "    plt.text(rect.get_x() + rect.get_width()/2.0, 1.02*height, str(data[i][1]), ha='center', va='bottom')\n",
    "plt.tight_layout()\n",
    "plt.savefig('../vis/lenet.jpg')\n",
    "plt.show()"
   ]
  },
  {
   "cell_type": "code",
   "execution_count": null,
   "metadata": {
    "collapsed": true
   },
   "outputs": [],
   "source": []
  }
 ],
 "metadata": {
  "kernelspec": {
   "display_name": "Python 2",
   "language": "python",
   "name": "python2"
  },
  "language_info": {
   "codemirror_mode": {
    "name": "ipython",
    "version": 2
   },
   "file_extension": ".py",
   "mimetype": "text/x-python",
   "name": "python",
   "nbconvert_exporter": "python",
   "pygments_lexer": "ipython2",
   "version": "2.7.11"
  }
 },
 "nbformat": 4,
 "nbformat_minor": 0
}
