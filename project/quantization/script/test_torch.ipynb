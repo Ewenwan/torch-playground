{
 "cells": [
  {
   "cell_type": "code",
   "execution_count": 1,
   "metadata": {
    "collapsed": true
   },
   "outputs": [],
   "source": [
    "require 'nn';"
   ]
  },
  {
   "cell_type": "code",
   "execution_count": 2,
   "metadata": {
    "collapsed": false
   },
   "outputs": [],
   "source": [
    "function quantization(x, nInt, nFrac)\n",
    "    local M = 2 ^ (nInt + nFrac) - 1\n",
    "    local delta = 2 ^ -nFrac\n",
    "    local sign = torch.sign(x)\n",
    "    local floor = torch.floor(torch.abs(x) / delta + 0.5)\n",
    "    local min = torch.cmin(floor, (M - 1) / 2.0)\n",
    "    local raw = torch.mul(torch.cmul(min, sign), delta)\n",
    "    return raw\n",
    "end\n",
    "function overflowRate(x, nInt, nFrac)\n",
    "    local M = 2 ^ (nInt + nFrac) - 1\n",
    "    local delta = 2 ^ -nFrac\n",
    "    local sign = torch.sign(x)\n",
    "    local floor = torch.floor(torch.abs(x) / delta + 0.5)\n",
    "    \n",
    "    local mask = torch.gt(floor, (M - 1) / 2.0)\n",
    "    local total = torch.sum(mask)\n",
    "    return total / x:nElement()\n",
    "end"
   ]
  },
  {
   "cell_type": "code",
   "execution_count": 15,
   "metadata": {
    "collapsed": false
   },
   "outputs": [],
   "source": [
    "d = {}\n",
    "d['nn.Linear'] = 1\n",
    "if d['nn.Linear'] then\n",
    "    print('yes')\n",
    "end"
   ]
  },
  {
   "cell_type": "code",
   "execution_count": 11,
   "metadata": {
    "collapsed": false
   },
   "outputs": [],
   "source": [
    "if false or false or false or false then\n",
    "    print('yes')\n",
    "end"
   ]
  },
  {
   "cell_type": "code",
   "execution_count": null,
   "metadata": {
    "collapsed": true
   },
   "outputs": [],
   "source": []
  }
 ],
 "metadata": {
  "kernelspec": {
   "display_name": "iTorch",
   "language": "lua",
   "name": "itorch"
  },
  "language_info": {
   "name": "lua",
   "version": "5.1"
  }
 },
 "nbformat": 4,
 "nbformat_minor": 0
}
