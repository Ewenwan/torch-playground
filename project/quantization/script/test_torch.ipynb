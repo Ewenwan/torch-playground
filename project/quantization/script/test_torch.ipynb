{
 "cells": [
  {
   "cell_type": "code",
   "execution_count": 1,
   "metadata": {
    "collapsed": true
   },
   "outputs": [],
   "source": [
    "require 'nn';"
   ]
  },
  {
   "cell_type": "code",
   "execution_count": 7,
   "metadata": {
    "collapsed": false
   },
   "outputs": [],
   "source": [
    "m1 = nn.SpatialConvolution(3, 16, 3, 3, 1, 1, 1, 1)\n",
    "m1.weight:uniform(-1, 1)\n",
    "m1.bias:uniform(-1, 1)\n",
    "m2 = nn.SpatialConvolutionFixedPoint(3, 16, 3, 3, 1, 1, 1, 1)\n",
    "m2.weight:copy(m1.weight)\n",
    "m2.bias:copy(m1.bias)"
   ]
  },
  {
   "cell_type": "code",
   "execution_count": 8,
   "metadata": {
    "collapsed": true
   },
   "outputs": [],
   "source": [
    "input = torch.Tensor(64, 3, 32, 32):uniform(-1, 1)"
   ]
  },
  {
   "cell_type": "code",
   "execution_count": 9,
   "metadata": {
    "collapsed": false,
    "scrolled": true
   },
   "outputs": [
    {
     "ename": "...nstall/share/lua/5.1/nn/SpatialConvolutionFixedPoint.lua:112: attempt to call field 'SpatialConvolutionFixedPointMM_updateOutput' (a nil value)\nstack traceback:\n\t...nstall/share/lua/5.1/nn/SpatialConvolutionFixedPoint.lua:112: in function 'forward'\n\t[string \"y1 = m1:forward(input)...\"]:2: in main chunk\n\t[C]: in function 'xpcall'\n\t/home/chenxi/torch/install/share/lua/5.1/itorch/main.lua:209: in function </home/chenxi/torch/install/share/lua/5.1/itorch/main.lua:173>\n\t/home/chenxi/torch/install/share/lua/5.1/lzmq/poller.lua:75: in function 'poll'\n\t/home/chenxi/torch/install/share/lua/5.1/lzmq/impl/loop.lua:307: in function 'poll'\n\t/home/chenxi/torch/install/share/lua/5.1/lzmq/impl/loop.lua:325: in function 'sleep_ex'\n\t/home/chenxi/torch/install/share/lua/5.1/lzmq/impl/loop.lua:370: in function 'start'\n\t/home/chenxi/torch/install/share/lua/5.1/itorch/main.lua:381: in main chunk\n\t[C]: in function 'require'\n\t(command line):1: in main chunk\n\t[C]: at 0x00406670",
     "evalue": "",
     "output_type": "error",
     "traceback": [
      "...nstall/share/lua/5.1/nn/SpatialConvolutionFixedPoint.lua:112: attempt to call field 'SpatialConvolutionFixedPointMM_updateOutput' (a nil value)\nstack traceback:\n\t...nstall/share/lua/5.1/nn/SpatialConvolutionFixedPoint.lua:112: in function 'forward'\n\t[string \"y1 = m1:forward(input)...\"]:2: in main chunk\n\t[C]: in function 'xpcall'\n\t/home/chenxi/torch/install/share/lua/5.1/itorch/main.lua:209: in function </home/chenxi/torch/install/share/lua/5.1/itorch/main.lua:173>\n\t/home/chenxi/torch/install/share/lua/5.1/lzmq/poller.lua:75: in function 'poll'\n\t/home/chenxi/torch/install/share/lua/5.1/lzmq/impl/loop.lua:307: in function 'poll'\n\t/home/chenxi/torch/install/share/lua/5.1/lzmq/impl/loop.lua:325: in function 'sleep_ex'\n\t/home/chenxi/torch/install/share/lua/5.1/lzmq/impl/loop.lua:370: in function 'start'\n\t/home/chenxi/torch/install/share/lua/5.1/itorch/main.lua:381: in main chunk\n\t[C]: in function 'require'\n\t(command line):1: in main chunk\n\t[C]: at 0x00406670"
     ]
    }
   ],
   "source": [
    "y1 = m1:forward(input)\n",
    "y2 = m2:forward(input)"
   ]
  },
  {
   "cell_type": "code",
   "execution_count": 2,
   "metadata": {
    "collapsed": false
   },
   "outputs": [],
   "source": [
    "function quantization(x, nInt, nFrac)\n",
    "    local M = 2 ^ (nInt + nFrac) - 1\n",
    "    local delta = 2 ^ -nFrac\n",
    "    local sign = torch.sign(x)\n",
    "    local floor = torch.floor(torch.abs(x) / delta + 0.5)\n",
    "    local min = torch.cmin(floor, (M - 1) / 2.0)\n",
    "    local raw = torch.mul(torch.cmul(min, sign), delta)\n",
    "    return raw\n",
    "end"
   ]
  },
  {
   "cell_type": "code",
   "execution_count": 3,
   "metadata": {
    "collapsed": false
   },
   "outputs": [],
   "source": [
    "x = torch.Tensor(10, 10):uniform(0, 1)"
   ]
  },
  {
   "cell_type": "code",
   "execution_count": null,
   "metadata": {
    "collapsed": true
   },
   "outputs": [],
   "source": [
    "m = "
   ]
  }
 ],
 "metadata": {
  "kernelspec": {
   "display_name": "iTorch",
   "language": "lua",
   "name": "itorch"
  },
  "language_info": {
   "name": "lua",
   "version": "5.1"
  }
 },
 "nbformat": 4,
 "nbformat_minor": 0
}
