{
 "cells": [
  {
   "cell_type": "code",
   "execution_count": 1,
   "metadata": {
    "collapsed": false
   },
   "outputs": [],
   "source": [
    "require 'nn'\n",
    "require 'cudnn'\n",
    "require 'cunn'\n",
    "require 'cutorch'\n",
    "DataLoader = require 'dataloader2'\n",
    "require 'CicularShift'\n",
    "require 'optim'"
   ]
  },
  {
   "cell_type": "code",
   "execution_count": 2,
   "metadata": {
    "collapsed": false
   },
   "outputs": [],
   "source": [
    "nInput = 49284\n",
    "nFeature = 120\n",
    "batchSize = 1024\n",
    "nSamples = 1024\n",
    "nTrial = 1\n",
    "offsetRatio = 0.3\n",
    "trainLoader = DataLoader(\n",
    "    '/home/chenxi/dataset/dssm/query.test.tsv', \n",
    "    '/home/chenxi/dataset/dssm/doc.test.tsv', \n",
    "    batchSize, \n",
    "    nSamples, \n",
    "    nInput)"
   ]
  },
  {
   "cell_type": "code",
   "execution_count": 3,
   "metadata": {
    "collapsed": false,
    "scrolled": true
   },
   "outputs": [],
   "source": [
    "model = nn.Sequential()\n",
    "model:add(nn.Linear(nInput, 400))\n",
    "model:add(cudnn.ReLU())\n",
    "\n",
    "\n",
    "model:add(nn.Linear(400, nFeature))\n",
    "model:add(nn.View(-1, batchSize, nFeature))\n",
    "model:add(nn.SplitTable(1))\n",
    "\n",
    "par = nn.ParallelTable()\n",
    "\n",
    "concat1 = nn.Concat(1)\n",
    "for i=1, nTrial+1 do\n",
    "    concat1:add(nn.Identity())\n",
    "end\n",
    "concat2 = nn.Concat(1)\n",
    "concat2:add(nn.Identity())\n",
    "\n",
    "for i=1, nTrial do\n",
    "    base = math.floor(offsetRatio * batchSize)\n",
    "    offset = base + torch.random(batchSize - 1 - base)\n",
    "    concat2:add(nn.CicularShift(1, offset, batchSize))\n",
    "end\n",
    "par:add(concat1)\n",
    "par:add(concat2)\n",
    "\n",
    "model:add(par)\n",
    "model:add(nn.CosineDistance())\n",
    "\n",
    "model:add(nn.View(-1, batchSize))\n",
    "model:add(nn.Transpose({1, 2}))\n",
    "-- model:add(nn.MulConstant(20))\n",
    "\n",
    "-- weights initialization\n",
    "local function LinearInit(name)\n",
    "    for k, v in pairs(model:findModules(name)) do\n",
    "        local n = v.weight:size(1) + v.weight:size(2)\n",
    "        v.weight:normal(0, math.sqrt(4 / n))\n",
    "        v.bias:fill(0)\n",
    "    end\n",
    "end\n",
    "LinearInit('nn.Linear')\n",
    "LinearInit('nn.SparseLinear')\n",
    "\n",
    "model:cuda()\n",
    "criterion = nn.CrossEntropyCriterion():cuda()\n",
    "-- criterion = nn.CosineEmbeddingCriterion():cuda()\n",
    "params, gradParams = model:getParameters()"
   ]
  },
  {
   "cell_type": "code",
   "execution_count": null,
   "metadata": {
    "collapsed": false,
    "scrolled": false
   },
   "outputs": [
    {
     "data": {
      "text/plain": [
       "0.60440319776535\t\n"
      ]
     },
     "execution_count": 4,
     "metadata": {},
     "output_type": "execute_result"
    },
    {
     "data": {
      "text/plain": [
       "update\t0.046334960028864\t\n"
      ]
     },
     "execution_count": 4,
     "metadata": {},
     "output_type": "execute_result"
    },
    {
     "data": {
      "text/plain": [
       "0.69313228130341\t\n"
      ]
     },
     "execution_count": 4,
     "metadata": {},
     "output_type": "execute_result"
    },
    {
     "data": {
      "text/plain": [
       "update\t6.9981631392934e-06\t\n"
      ]
     },
     "execution_count": 4,
     "metadata": {},
     "output_type": "execute_result"
    },
    {
     "data": {
      "text/plain": [
       "0.69313228130341\t\n"
      ]
     },
     "execution_count": 4,
     "metadata": {},
     "output_type": "execute_result"
    },
    {
     "data": {
      "text/plain": [
       "update\t6.9982106247983e-06\t\n"
      ]
     },
     "execution_count": 4,
     "metadata": {},
     "output_type": "execute_result"
    },
    {
     "data": {
      "text/plain": [
       "0.69313222169876\t\n"
      ]
     },
     "execution_count": 4,
     "metadata": {},
     "output_type": "execute_result"
    },
    {
     "data": {
      "text/plain": [
       "update\t6.9980542879052e-06\t\n"
      ]
     },
     "execution_count": 4,
     "metadata": {},
     "output_type": "execute_result"
    }
   ],
   "source": [
    "counter = 0\n",
    "function feval(x_new) \n",
    "    return criterion.output, gradParams\n",
    "end\n",
    "\n",
    "sgd_config = {\n",
    "    learningRate = 0.001\n",
    "}\n",
    "\n",
    "for i=1,7 do\n",
    "    for sample in trainLoader:nextBatch() do\n",
    "        input = torch.CudaTensor()\n",
    "        target = torch.CudaTensor()\n",
    "        input:resize(sample.input:size()):copy(sample.input)\n",
    "        target:resize(sample.target:size()):copy(sample.target)    \n",
    "\n",
    "        output = model:forward(input)\n",
    "\n",
    "        loss = criterion:forward(output, target)\n",
    "        print(loss)\n",
    "\n",
    "        model:zeroGradParameters()\n",
    "        model:backward(input, criterion:backward(output, target))\n",
    "        optim.sgd(feval, params, sgd_config)\n",
    "        \n",
    "        w = model:get(1).weight\n",
    "        grad = model:get(1).gradWeight * 0.0001\n",
    "        w_scale = torch.norm(w)\n",
    "        grad_scale = torch.norm(grad)\n",
    "        print('update', grad_scale / w_scale)\n",
    "        counter = counter + 1\n",
    "    end\n",
    "end"
   ]
  }
 ],
 "metadata": {
  "kernelspec": {
   "display_name": "iTorch",
   "language": "lua",
   "name": "itorch"
  },
  "language_info": {
   "name": "lua",
   "version": "5.1"
  }
 },
 "nbformat": 4,
 "nbformat_minor": 0
}
