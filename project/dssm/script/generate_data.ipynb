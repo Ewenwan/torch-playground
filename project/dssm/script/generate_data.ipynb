{
 "cells": [
  {
   "cell_type": "code",
   "execution_count": 1,
   "metadata": {
    "collapsed": true
   },
   "outputs": [],
   "source": [
    "require 'pl';\n",
    "qTrainFile = '/tmp/dssm3/query2.train.tsv'\n",
    "dTrainFile = '/tmp/dssm3/doc2.train.tsv'\n",
    "qValFile = '/tmp/dssm3/query2.test.tsv'\n",
    "dValFile = '/tmp/dssm3/doc2.test.tsv'"
   ]
  },
  {
   "cell_type": "code",
   "execution_count": 2,
   "metadata": {
    "collapsed": false
   },
   "outputs": [
    {
     "data": {
      "text/plain": [
       "process train data\t\n"
      ]
     },
     "execution_count": 2,
     "metadata": {},
     "output_type": "execute_result"
    },
    {
     "data": {
      "text/plain": [
       "process val data\t\n"
      ]
     },
     "execution_count": 2,
     "metadata": {},
     "output_type": "execute_result"
    }
   ],
   "source": [
    "qTrainData = {}\n",
    "dTrainData = {}\n",
    "qValData = {}\n",
    "dValData = {}\n",
    "\n",
    "-- read train data\n",
    "qFileStream = assert(io.open(qTrainFile))\n",
    "dFileStream = assert(io.open(dTrainFile))\n",
    "print(\"process train data\")\n",
    "while true do\n",
    "    qline = qFileStream:lines()()\n",
    "    dline = dFileStream:lines()()\n",
    "    if qline == nil or dline == nil then break end\n",
    "    if #qline > 0 and #dline > 0 then\n",
    "        qRecords = {}\n",
    "        dRecords = {}\n",
    "        qfields = stringx.split(qline)\n",
    "        dfields = stringx.split(dline)\n",
    "        for i, pair in ipairs(qfields) do\n",
    "            spl = stringx.split(pair, ':')\n",
    "            key = spl[1]\n",
    "            val = spl[2]\n",
    "            qRecords[key + 1] = val\n",
    "        end\n",
    "        for i, pair in ipairs(dfields) do\n",
    "            spl = stringx.split(pair, ':')\n",
    "            key = spl[1]\n",
    "            val = spl[2]\n",
    "            dRecords[key + 1] = val\n",
    "        end\n",
    "        table.insert(qTrainData, qRecords)\n",
    "        table.insert(dTrainData, dRecords)\n",
    "    end\n",
    "end\n",
    "\n",
    "print(#qTrainData)\n",
    "print(#dTrainData)\n",
    "\n",
    "-- read val data\n",
    "print(\"process val data\")\n",
    "qFileStream = assert(io.open(qValFile))\n",
    "dFileStream = assert(io.open(dValFile))\n",
    "while true do\n",
    "    qline = qFileStream:lines()()\n",
    "    dline = dFileStream:lines()()\n",
    "    if qline == nil or dline == nil then break end\n",
    "    if #qline > 0 and #dline > 0 then\n",
    "        qRecords = {}\n",
    "        dRecords = {}\n",
    "        qfields = stringx.split(qline)\n",
    "        dfields = stringx.split(dline)\n",
    "        for i, pair in ipairs(qfields) do\n",
    "            spl = stringx.split(pair, ':')\n",
    "            key = spl[1]\n",
    "            val = spl[2]\n",
    "            qRecords[key + 1] = val\n",
    "        end\n",
    "        for i, pair in ipairs(dfields) do\n",
    "            spl = stringx.split(pair, ':')\n",
    "            key = spl[1]\n",
    "            val = spl[2]\n",
    "            dRecords[key + 1] = val\n",
    "        end\n",
    "        table.insert(qValData, qRecords)\n",
    "        table.insert(dValData, dRecords)\n",
    "    end\n",
    "end\n"
   ]
  },
  {
   "cell_type": "code",
   "execution_count": 4,
   "metadata": {
    "collapsed": false
   },
   "outputs": [
    {
     "data": {
      "text/plain": [
       "10240\t\n",
       "10240\t\n",
       "10240\t\n",
       "10240\t\n"
      ]
     },
     "execution_count": 4,
     "metadata": {},
     "output_type": "execute_result"
    }
   ],
   "source": [
    "\n",
    "print(#qValData)\n",
    "print(#dValData)\n",
    "\n",
    "trainData = {\n",
    "    query = qTrainData,\n",
    "    doc = dTrainData,\n",
    "}\n",
    "valData = {\n",
    "    query =qValData,\n",
    "    doc =dValData\n",
    "}\n",
    "torch.save('/tmp/train.t7', trainData)\n",
    "torch.save('/tmp/val.t7', valData)"
   ]
  },
  {
   "cell_type": "code",
   "execution_count": 8,
   "metadata": {
    "collapsed": false
   },
   "outputs": [],
   "source": [
    "idx = torch.randperm(100)"
   ]
  },
  {
   "cell_type": "code",
   "execution_count": 9,
   "metadata": {
    "collapsed": false
   },
   "outputs": [
    {
     "data": {
      "text/plain": [
       "75\t\n"
      ]
     },
     "execution_count": 9,
     "metadata": {},
     "output_type": "execute_result"
    }
   ],
   "source": [
    "idx[1]"
   ]
  },
  {
   "cell_type": "code",
   "execution_count": 10,
   "metadata": {
    "collapsed": true
   },
   "outputs": [],
   "source": [
    "d = {a=1, b=2}"
   ]
  },
  {
   "cell_type": "code",
   "execution_count": 13,
   "metadata": {
    "collapsed": false
   },
   "outputs": [
    {
     "data": {
      "text/plain": [
       "a\t1\t\n",
       "b\t2\t\n"
      ]
     },
     "execution_count": 13,
     "metadata": {},
     "output_type": "execute_result"
    }
   ],
   "source": [
    "for k, v in pairs(d) do\n",
    "    print(k, v)\n",
    "end"
   ]
  },
  {
   "cell_type": "code",
   "execution_count": 14,
   "metadata": {
    "collapsed": true
   },
   "outputs": [],
   "source": [
    "torch.IntTensor(1024000, 500)"
   ]
  },
  {
   "cell_type": "code",
   "execution_count": 2,
   "metadata": {
    "collapsed": false
   },
   "outputs": [
    {
     "data": {
      "text/plain": [
       " 0.7962  0.0466  0.6455  0.2802\n",
       "[torch.DoubleTensor of size 1x4]\n",
       "\n",
       " 0.7962  0.0466  0.6455  0.2802\n",
       "[torch.DoubleTensor of size 1x4]\n",
       "\n",
       " 0.0000  0.0466  0.6455  0.2802\n",
       "[torch.DoubleTensor of size 1x4]\n",
       "\n",
       " 0.7962  0.0466  0.6455  0.2802\n",
       "[torch.DoubleTensor of size 1x4]\n",
       "\n"
      ]
     },
     "execution_count": 2,
     "metadata": {},
     "output_type": "execute_result"
    }
   ],
   "source": [
    "a = torch.Tensor(1, 4):uniform(0, 1)\n",
    "b = a:clone()\n",
    "print(a, b)\n",
    "a[1][1] = 0\n",
    "print(a, b)"
   ]
  },
  {
   "cell_type": "code",
   "execution_count": 1,
   "metadata": {
    "collapsed": false
   },
   "outputs": [
    {
     "data": {
      "text/plain": [
       "false\t\n"
      ]
     },
     "execution_count": 1,
     "metadata": {},
     "output_type": "execute_result"
    }
   ],
   "source": [
    "x = torch.Tensor(2, 2):uniform(0, 1)\n",
    "y = torch.Tensor(2, 2):uniform(0, 1)\n",
    "print(x:size() == y:size())"
   ]
  },
  {
   "cell_type": "code",
   "execution_count": null,
   "metadata": {
    "collapsed": true
   },
   "outputs": [],
   "source": []
  }
 ],
 "metadata": {
  "kernelspec": {
   "display_name": "iTorch",
   "language": "lua",
   "name": "itorch"
  },
  "language_info": {
   "name": "lua",
   "version": "5.1"
  }
 },
 "nbformat": 4,
 "nbformat_minor": 0
}
