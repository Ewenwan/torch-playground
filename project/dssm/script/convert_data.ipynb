{
 "cells": [
  {
   "cell_type": "code",
   "execution_count": null,
   "metadata": {
    "collapsed": false
   },
   "outputs": [],
   "source": [
    "require 'pl'\n",
    "qFilePath = '/home/chenxi/dataset/dssm/query.test.tsv'\n",
    "dFilePath = '/home/chenxi/dataset/dssm/doc.test.tsv'\n",
    "qFileStream = assert(io.open(qFilePath))\n",
    "dFileStream = assert(io.open(dFilePath))\n",
    "queries = {}\n",
    "docs = {}\n",
    "batchSize = 1024\n",
    "while true do\n",
    "    if #queries % 312260 == 0 then \n",
    "        print(#queries)\n",
    "    end\n",
    "    qline = qFileStream:lines()()\n",
    "    dline = dFileStream:lines()()\n",
    "    if not qline or not dline then break end\n",
    "    if #qline > 0 and #dline > 0 then\n",
    "        qfields = stringx.split(qline)\n",
    "        dfields = stringx.split(dline)\n",
    "        query = {}\n",
    "        for i, pair in ipairs(qfields) do\n",
    "            spl = stringx.split(pair, ':')\n",
    "            key = spl[1]\n",
    "            val = spl[2]\n",
    "            query[key] = val\n",
    "        end\n",
    "        table.insert(queries, query)\n",
    "        doc = {}\n",
    "        for i, pair in ipairs(dfields) do\n",
    "            spl = stringx.split(pair, ':')\n",
    "            key = spl[1]\n",
    "            val = spl[2]\n",
    "            doc[key] = val\n",
    "        end\n",
    "        table.insert(docs, doc)\n",
    "    end\n",
    "end"
   ]
  }
 ],
 "metadata": {
  "kernelspec": {
   "display_name": "iTorch",
   "language": "lua",
   "name": "itorch"
  },
  "language_info": {
   "name": "lua",
   "version": "5.1"
  }
 },
 "nbformat": 4,
 "nbformat_minor": 0
}
