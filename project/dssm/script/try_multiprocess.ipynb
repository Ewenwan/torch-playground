{
 "cells": [
  {
   "cell_type": "code",
   "execution_count": 13,
   "metadata": {
    "collapsed": false
   },
   "outputs": [
    {
     "data": {
      "text/plain": [
       "starting a new thread/state number 1\n"
      ]
     },
     "execution_count": 13,
     "metadata": {},
     "output_type": "execute_result"
    },
    {
     "data": {
      "text/plain": [
       "hello from a satellite thread -- thread ID is 1\n"
      ]
     },
     "execution_count": 13,
     "metadata": {},
     "output_type": "execute_result"
    }
   ],
   "source": [
    "local threads = require 'threads'\n",
    "\n",
    "local nthread = 1\n",
    "local njob = 10\n",
    "local msg = \"hello from a satellite thread\"\n",
    "\n",
    "\n",
    "local pool = threads.Threads(\n",
    "   nthread,\n",
    "   function(threadid)\n",
    "      print('starting a new thread/state number ' .. threadid)\n",
    "      gmsg = msg -- get it the msg upvalue and store it in thread state\n",
    "   end\n",
    ")\n",
    "\n",
    "local jobdone = 0\n",
    "    while pool:acceptsjob() do\n",
    "   pool:addjob(\n",
    "      function()\n",
    "         print(string.format('%s -- thread ID is %x', gmsg, __threadid))\n",
    "         return __threadid\n",
    "      end,\n",
    "\n",
    "      function(id)\n",
    "         print(string.format(\"task %d finished (ran on thread ID %x)\", i, id))\n",
    "         jobdone = jobdone + 1\n",
    "      end\n",
    "   )\n",
    "end"
   ]
  },
  {
   "cell_type": "code",
   "execution_count": 8,
   "metadata": {
    "collapsed": false
   },
   "outputs": [
    {
     "data": {
      "text/plain": [
       "1.0000870227814\t\n"
      ]
     },
     "execution_count": 8,
     "metadata": {},
     "output_type": "execute_result"
    },
    {
     "data": {
      "text/plain": [
       "2.0002400875092\t\n"
      ]
     },
     "execution_count": 8,
     "metadata": {},
     "output_type": "execute_result"
    },
    {
     "data": {
      "text/plain": [
       "3.0004041194916\t\n"
      ]
     },
     "execution_count": 8,
     "metadata": {},
     "output_type": "execute_result"
    },
    {
     "data": {
      "text/plain": [
       "4.0005640983582\t\n"
      ]
     },
     "execution_count": 8,
     "metadata": {},
     "output_type": "execute_result"
    },
    {
     "data": {
      "text/plain": [
       "5.0007071495056\t\n"
      ]
     },
     "execution_count": 8,
     "metadata": {},
     "output_type": "execute_result"
    }
   ],
   "source": [
    "timer = torch.Timer()\n",
    "sys = require 'sys'\n",
    "for i=1, 5 do\n",
    "    sys.sleep(1)\n",
    "    print(timer:time().real)\n",
    "end"
   ]
  },
  {
   "cell_type": "code",
   "execution_count": null,
   "metadata": {
    "collapsed": true
   },
   "outputs": [],
   "source": []
  }
 ],
 "metadata": {
  "kernelspec": {
   "display_name": "iTorch",
   "language": "lua",
   "name": "itorch"
  },
  "language_info": {
   "name": "lua",
   "version": "5.1"
  }
 },
 "nbformat": 4,
 "nbformat_minor": 0
}
