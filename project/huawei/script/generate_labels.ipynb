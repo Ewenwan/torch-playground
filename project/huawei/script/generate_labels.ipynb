{
 "cells": [
  {
   "cell_type": "code",
   "execution_count": 1,
   "metadata": {
    "collapsed": false
   },
   "outputs": [],
   "source": [
    "import pandas as pd\n",
    "import numpy as np\n",
    "from collections import OrderedDict\n",
    "import matplotlib.pyplot as plt\n",
    "%matplotlib inline\n",
    "import os"
   ]
  },
  {
   "cell_type": "code",
   "execution_count": 2,
   "metadata": {
    "collapsed": false
   },
   "outputs": [],
   "source": [
    "csv = pd.read_csv('./labels.csv', encoding='utf8')\n",
    "imgRoot = '/home/chenxi/dataset/huawei_scene_labeling/resized256/'"
   ]
  },
  {
   "cell_type": "code",
   "execution_count": 3,
   "metadata": {
    "collapsed": false
   },
   "outputs": [
    {
     "name": "stdout",
     "output_type": "stream",
     "text": [
      "/home/chenxi/dataset/huawei_scene_labeling/resized256/A0126.jpg\n",
      "/home/chenxi/dataset/huawei_scene_labeling/resized256/A0427.jpg\n",
      "/home/chenxi/dataset/huawei_scene_labeling/resized256/A1064.jpg\n",
      "/home/chenxi/dataset/huawei_scene_labeling/resized256/A1339.jpg\n",
      "/home/chenxi/dataset/huawei_scene_labeling/resized256/A3224.jpg\n",
      "/home/chenxi/dataset/huawei_scene_labeling/resized256/A4082.jpg\n",
      "/home/chenxi/dataset/huawei_scene_labeling/resized256/A4105.jpg\n",
      "/home/chenxi/dataset/huawei_scene_labeling/resized256/A4843.jpg\n",
      "/home/chenxi/dataset/huawei_scene_labeling/resized256/A4844.jpg\n",
      "/home/chenxi/dataset/huawei_scene_labeling/resized256/A4845.jpg\n",
      "/home/chenxi/dataset/huawei_scene_labeling/resized256/A4846.jpg\n",
      "/home/chenxi/dataset/huawei_scene_labeling/resized256/A4847.jpg\n",
      "/home/chenxi/dataset/huawei_scene_labeling/resized256/A4848.jpg\n",
      "/home/chenxi/dataset/huawei_scene_labeling/resized256/A4849.jpg\n",
      "/home/chenxi/dataset/huawei_scene_labeling/resized256/A4850.jpg\n",
      "/home/chenxi/dataset/huawei_scene_labeling/resized256/A4851.jpg\n",
      "/home/chenxi/dataset/huawei_scene_labeling/resized256/A4852.jpg\n"
     ]
    }
   ],
   "source": [
    "name2id = dict()\n",
    "files = []\n",
    "columns = csv.columns\n",
    "records = []\n",
    "\n",
    "for idx, val in csv.iterrows():\n",
    "    filePath = imgRoot + val[columns[0]].strip() + '.jpg'\n",
    "    if not os.path.exists(filePath):\n",
    "        print(filePath)\n",
    "        continue\n",
    "    \n",
    "    files.append(os.path.basename(filePath))\n",
    "    one = []\n",
    "    for i in range(1, len(columns)):\n",
    "        ref = columns[i]\n",
    "        try:\n",
    "            if np.isnan(val[ref]):\n",
    "                break\n",
    "        except:\n",
    "            label = val[ref].strip()\n",
    "            if not label in name2id:\n",
    "                name2id[label] = len(name2id)\n",
    "            one.append(name2id[label])\n",
    "    records.append(one)\n",
    "\n",
    "assert(len(files) == len(records))\n",
    "keys = OrderedDict(sorted(name2id.items(), key=lambda v: v[1])).keys()\n",
    "data = np.zeros((len(files), len(keys)))\n",
    "for i, r in enumerate(records):\n",
    "    for idx in r:\n",
    "        data[i][idx] = 1"
   ]
  },
  {
   "cell_type": "code",
   "execution_count": 4,
   "metadata": {
    "collapsed": false
   },
   "outputs": [],
   "source": [
    "counts = np.sum(data, 0).astype('int')\n",
    "filter_cols = np.arange(len(counts))[counts > 1]\n",
    "key_filter = [keys[i] for i in range(len(keys)) if i in filter_cols]\n",
    "data_filter = data[:, filter_cols]\n",
    "\n",
    "# shuffle\n",
    "perm = np.random.permutation(len(data_filter))\n",
    "data_shuffle = np.array([data[idx] for idx in perm])\n",
    "files_shuffle = [files[idx] for idx in perm]"
   ]
  },
  {
   "cell_type": "code",
   "execution_count": 5,
   "metadata": {
    "collapsed": true
   },
   "outputs": [],
   "source": [
    "nTrainSamples = int(len(data) * 0.8)\n",
    "\n",
    "trainSamples = data_shuffle[:nTrainSamples].astype('int')\n",
    "trainFiles = files_shuffle[:nTrainSamples]\n",
    "valSamples = data_shuffle[nTrainSamples:].astype('int')\n",
    "valFiles = files_shuffle[nTrainSamples:]"
   ]
  },
  {
   "cell_type": "code",
   "execution_count": 6,
   "metadata": {
    "collapsed": false,
    "scrolled": true
   },
   "outputs": [
    {
     "name": "stdout",
     "output_type": "stream",
     "text": [
      "[ 0.32802249  0.25716963  0.02155576  0.10121837  0.02530459  0.00243674\n",
      "  0.01480787  0.0076851   0.0950328   0.05979381  0.00880975  0.06710403\n",
      "  0.0099344   0.00112465  0.        ]\n",
      "[ 0.31678832  0.25620438  0.0270073   0.09635036  0.02335766  0.00291971\n",
      "  0.02408759  0.01386861  0.09051095  0.05547445  0.01021898  0.07007299\n",
      "  0.01094891  0.00145985  0.00072993]\n"
     ]
    }
   ],
   "source": [
    "distTrain = np.sum(trainSamples, 0) * 1.0 / np.sum(trainSamples)\n",
    "distVal = np.sum(valSamples, 0) * 1.0 / np.sum(valSamples)\n",
    "print(distTrain)\n",
    "print(distVal)"
   ]
  },
  {
   "cell_type": "code",
   "execution_count": 7,
   "metadata": {
    "collapsed": false
   },
   "outputs": [
    {
     "data": {
      "image/png": "[encoded data removed]",
      "text/plain": [
       "<matplotlib.figure.Figure at 0x7f9d55b5e950>"
      ]
     },
     "metadata": {},
     "output_type": "display_data"
    }
   ],
   "source": [
    "plt.figure()\n",
    "plt.plot(distTrain, label = 'train distribution')\n",
    "plt.plot(distVal, label='val distribution')\n",
    "plt.legend(loc='best')\n",
    "plt.savefig('dist.jpg')\n",
    "plt.show()"
   ]
  },
  {
   "cell_type": "code",
   "execution_count": 8,
   "metadata": {
    "collapsed": false
   },
   "outputs": [
    {
     "name": "stdout",
     "output_type": "stream",
     "text": [
      "(4040, 15)\n",
      "(1011, 15)\n"
     ]
    }
   ],
   "source": [
    "trainDict = OrderedDict()\n",
    "trainDict['ImageName'] = trainFiles\n",
    "for col, key in enumerate(key_filter):\n",
    "    trainDict[key] = trainSamples[:, col]\n",
    "dfTrain = pd.DataFrame(trainDict)\n",
    "print(dfTrain.shape)\n",
    "\n",
    "\n",
    "valDict = OrderedDict()\n",
    "valDict['ImageName'] = valFiles\n",
    "for col, key in enumerate(key_filter):\n",
    "    valDict[key] = valSamples[:, col]\n",
    "dfVal = pd.DataFrame(valDict)\n",
    "print(dfVal.shape)"
   ]
  },
  {
   "cell_type": "code",
   "execution_count": 9,
   "metadata": {
    "collapsed": false
   },
   "outputs": [],
   "source": [
    "dfTrain.to_csv('/home/chenxi/dataset/huawei_scene_labeling/train.labels', header=False, index=False, sep=' ')\n",
    "dfVal.to_csv('/home/chenxi/dataset/huawei_scene_labeling/val.labels', header=False, index=False, sep=' ')"
   ]
  },
  {
   "cell_type": "code",
   "execution_count": null,
   "metadata": {
    "collapsed": true
   },
   "outputs": [],
   "source": []
  }
 ],
 "metadata": {
  "kernelspec": {
   "display_name": "Python 2",
   "language": "python",
   "name": "python2"
  },
  "language_info": {
   "codemirror_mode": {
    "name": "ipython",
    "version": 2
   },
   "file_extension": ".py",
   "mimetype": "text/x-python",
   "name": "python",
   "nbconvert_exporter": "python",
   "pygments_lexer": "ipython2",
   "version": "2.7.11"
  }
 },
 "nbformat": 4,
 "nbformat_minor": 0
}
