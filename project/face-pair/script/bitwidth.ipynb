{
 "cells": [
  {
   "cell_type": "code",
   "execution_count": 1,
   "metadata": {
    "collapsed": false
   },
   "outputs": [],
   "source": [
    "import numpy as np\n",
    "import matplotlib.pyplot as plt\n",
    "%matplotlib inline\n",
    "import os\n",
    "import sys\n",
    "import lutorpy as lua"
   ]
  },
  {
   "cell_type": "code",
   "execution_count": 2,
   "metadata": {
    "collapsed": true
   },
   "outputs": [],
   "source": [
    "def compute_eer(path):\n",
    "    raw = torch.load(path)\n",
    "    data = raw.asNumpyArray()\n",
    "    data_sorted = sorted(data, key=lambda x: x[0])\n",
    "    preds = np.array([x[1] for x in data_sorted]).astype('int32')\n",
    "    pairs = [(0.0, 0.0)]\n",
    "    nPos = np.sum(preds)\n",
    "    nNeg = len(preds) - nPos\n",
    "    fp = 0\n",
    "    tp = 0\n",
    "    for d in preds:\n",
    "        if d == 1:\n",
    "            tp += 1\n",
    "        else:\n",
    "            fp += 1\n",
    "        pairs.append((fp, tp))\n",
    "    pairs = np.array(pairs) / np.array([[nNeg, nPos]], dtype='float32')\n",
    "    idx = np.argmin(np.abs(1-pairs[:, 0] - pairs[:, 1]))\n",
    "    return 1- pairs[idx][0]"
   ]
  },
  {
   "cell_type": "code",
   "execution_count": 3,
   "metadata": {
    "collapsed": false
   },
   "outputs": [],
   "source": [
    "flist = ['face'+str(i) for i in range(2, 32)] + ['float']\n",
    "eers = []\n",
    "for f in flist:\n",
    "    path = '/home/chenxi/experiments/torch-playground/exp/{}/log.t7'.format(f)\n",
    "    eer = compute_eer(path)\n",
    "    eers.append(eer)"
   ]
  },
  {
   "cell_type": "code",
   "execution_count": 5,
   "metadata": {
    "collapsed": false
   },
   "outputs": [
    {
     "data": {
      "image/png": "[encoded data removed]",
      "text/plain": [
       "<matplotlib.figure.Figure at 0x7fa5f938fbd0>"
      ]
     },
     "metadata": {},
     "output_type": "display_data"
    }
   ],
   "source": [
    "x = list(range(2, 33))\n",
    "fig = plt.figure(figsize=(10, 10))\n",
    "ax = fig.add_subplot(111)\n",
    "ax.plot(x, eers)\n",
    "ax.scatter(x, eers)\n",
    "ax.set_xlabel('bitwidth', fontsize=15)\n",
    "ax.set_ylabel('EER', fontsize=15)\n",
    "ax.set_title('EER v.s. bitwidth')\n",
    "plt.savefig('out.jpg')"
   ]
  },
  {
   "cell_type": "code",
   "execution_count": null,
   "metadata": {
    "collapsed": true
   },
   "outputs": [],
   "source": []
  }
 ],
 "metadata": {
  "kernelspec": {
   "display_name": "Python [deep]",
   "language": "python",
   "name": "Python [deep]"
  },
  "language_info": {
   "codemirror_mode": {
    "name": "ipython",
    "version": 2
   },
   "file_extension": ".py",
   "mimetype": "text/x-python",
   "name": "python",
   "nbconvert_exporter": "python",
   "pygments_lexer": "ipython2",
   "version": "2.7.11"
  }
 },
 "nbformat": 4,
 "nbformat_minor": 0
}
