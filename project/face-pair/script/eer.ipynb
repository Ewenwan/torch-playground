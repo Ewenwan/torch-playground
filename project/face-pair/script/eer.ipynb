{
 "cells": [
  {
   "cell_type": "code",
   "execution_count": 1,
   "metadata": {
    "collapsed": false
   },
   "outputs": [],
   "source": [
    "import numpy as np\n",
    "import matplotlib.pyplot as plt\n",
    "%matplotlib inline\n",
    "import os\n",
    "import sys\n",
    "import lutorpy as lua"
   ]
  },
  {
   "cell_type": "code",
   "execution_count": 2,
   "metadata": {
    "collapsed": false
   },
   "outputs": [
    {
     "name": "stdout",
     "output_type": "stream",
     "text": [
      "0.877333333333\n"
     ]
    }
   ],
   "source": [
    "raw = torch.load('/home/chenxi/experiments/torch-playground/exp/face6/log.t7')\n",
    "data = raw.asNumpyArray()\n",
    "data_sorted = sorted(data, key=lambda x: x[0])\n",
    "preds = np.array([x[1] for x in data_sorted]).astype('int32')\n",
    "pairs = [(0.0, 0.0)]\n",
    "nPos = np.sum(preds)\n",
    "nNeg = len(preds) - nPos\n",
    "fp = 0\n",
    "tp = 0\n",
    "for d in preds:\n",
    "    if d == 1:\n",
    "        tp += 1\n",
    "    else:\n",
    "        fp += 1\n",
    "    pairs.append((fp, tp))\n",
    "pairs = np.array(pairs) / np.array([[nNeg, nPos]], dtype='float32')\n",
    "idx = np.argmin(np.abs(1-pairs[:, 0] - pairs[:, 1]))\n",
    "print(1- pairs[idx][0])"
   ]
  },
  {
   "cell_type": "code",
   "execution_count": 3,
   "metadata": {
    "collapsed": false
   },
   "outputs": [
    {
     "data": {
      "text/plain": [
       "[<matplotlib.lines.Line2D at 0x7f46abbd2090>]"
      ]
     },
     "execution_count": 3,
     "metadata": {},
     "output_type": "execute_result"
    },
    {
     "data": {
      "image/png": "[encoded data removed]",
      "text/plain": [
       "<matplotlib.figure.Figure at 0x7f471083a850>"
      ]
     },
     "metadata": {},
     "output_type": "display_data"
    }
   ],
   "source": [
    "plt.plot(pairs[:, 0], pairs[:, 1])"
   ]
  }
 ],
 "metadata": {
  "kernelspec": {
   "display_name": "Python [deep]",
   "language": "python",
   "name": "Python [deep]"
  },
  "language_info": {
   "codemirror_mode": {
    "name": "ipython",
    "version": 2
   },
   "file_extension": ".py",
   "mimetype": "text/x-python",
   "name": "python",
   "nbconvert_exporter": "python",
   "pygments_lexer": "ipython2",
   "version": "2.7.11"
  }
 },
 "nbformat": 4,
 "nbformat_minor": 0
}
