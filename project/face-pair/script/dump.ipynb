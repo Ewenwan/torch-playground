{
 "cells": [
  {
   "cell_type": "code",
   "execution_count": 1,
   "metadata": {
    "collapsed": false
   },
   "outputs": [],
   "source": [
    "require 'nn';\n",
    "require 'cudnn';\n",
    "require 'cunn';\n",
    "require 'struct'\n",
    "require 'image';"
   ]
  },
  {
   "cell_type": "code",
   "execution_count": 2,
   "metadata": {
    "collapsed": false
   },
   "outputs": [],
   "source": [
    "function traverse(writerParam, writerAct, layer, input)\n",
    "    local layerName = torch.typename(layer)\n",
    "    local output\n",
    "    if layer.modules then\n",
    "        if layerName == 'nn.Sequential' then\n",
    "            output = input\n",
    "            for i=1, #layer.modules do\n",
    "                output = traverse(writerParam, writerAct, layer.modules[i], output)\n",
    "            end\n",
    "        elseif layerName == 'nn.ConcatTable' then\n",
    "            output = {}\n",
    "            for i=1, #layer.modules do\n",
    "                table.insert(output, traverse(writerParam, writerAct, layer.modules[i], input))\n",
    "            end\n",
    "        else\n",
    "            assert('Unknown container ' .. layerName)\n",
    "        end\n",
    "    else\n",
    "        output = layer:forward(input)\n",
    "        if layerName ~= 'nn.Identity'then\n",
    "            params = {}\n",
    "            counter = 0\n",
    "            if layer.running_mean and layer.running_var then\n",
    "                table.insert(params, layer.running_mean)\n",
    "                table.insert(params, layer.running_var)\n",
    "            end\n",
    "            if layer.weight and layer.bias then\n",
    "                table.insert(params, layer.weight)\n",
    "                table.insert(params, layer.bias)\n",
    "            end\n",
    "            for i=1, #params do\n",
    "                param = params[i]\n",
    "                counter = counter + param:nElement()\n",
    "                for i=1, param:nElement() do\n",
    "                    writerParam:write(struct.pack('<f', param:view(-1)[i]))\n",
    "                end\n",
    "            end\n",
    "            if counter > 0 then\n",
    "                print((\"%s params: write %d bytes\"):format(layerName, counter))\n",
    "            end\n",
    "            \n",
    "            writerAct:write((\"%s %d %d %d\\n\"):format(layerName, output:size()[2], output:size()[3], output:size()[4]))\n",
    "            for i=1,output:nElement() do\n",
    "                writerAct:write(output:view(-1)[i])\n",
    "                writerAct:write(\"\\t\")\n",
    "            end\n",
    "            writerAct:write(\"\\n\")\n",
    "            print((\"%s act: write %d bytes\"):format(layerName, output:nElement()))\n",
    "        end\n",
    "    end\n",
    "    return output\n",
    "end "
   ]
  },
  {
   "cell_type": "code",
   "execution_count": 3,
   "metadata": {
    "collapsed": false
   },
   "outputs": [],
   "source": [
    "data = torch.load('input.t7'):float()\n",
    "modelCPU = cudnn.convert(torch.load('/home/minint/modelzoo/resnet152/model.t7'), nn):float()\n",
    "modelCPU:evaluate()\n",
    "torch.manualSeed(11)"
   ]
  },
  {
   "cell_type": "code",
   "execution_count": null,
   "metadata": {
    "collapsed": false
   },
   "outputs": [
    {
     "data": {
      "text/plain": [
       "nn.SpatialConvolution params: write 9472 bytes\t\n"
      ]
     },
     "execution_count": 4,
     "metadata": {},
     "output_type": "execute_result"
    },
    {
     "data": {
      "text/plain": [
       "nn.SpatialConvolution act: write 802816 bytes\t\n"
      ]
     },
     "execution_count": 4,
     "metadata": {},
     "output_type": "execute_result"
    },
    {
     "data": {
      "text/plain": [
       "nn.SpatialBatchNormalization params: write 256 bytes\t\n"
      ]
     },
     "execution_count": 4,
     "metadata": {},
     "output_type": "execute_result"
    },
    {
     "data": {
      "text/plain": [
       "nn.SpatialBatchNormalization act: write 802816 bytes\t\n"
      ]
     },
     "execution_count": 4,
     "metadata": {},
     "output_type": "execute_result"
    },
    {
     "data": {
      "text/plain": [
       "nn.ReLU act: write 802816 bytes\t\n"
      ]
     },
     "execution_count": 4,
     "metadata": {},
     "output_type": "execute_result"
    },
    {
     "data": {
      "text/plain": [
       "nn.SpatialMaxPooling act: write 200704 bytes\t\n"
      ]
     },
     "execution_count": 4,
     "metadata": {},
     "output_type": "execute_result"
    },
    {
     "data": {
      "text/plain": [
       "nn.SpatialConvolution params: write 4160 bytes\t\n"
      ]
     },
     "execution_count": 4,
     "metadata": {},
     "output_type": "execute_result"
    },
    {
     "data": {
      "text/plain": [
       "nn.SpatialConvolution act: write 200704 bytes\t\n"
      ]
     },
     "execution_count": 4,
     "metadata": {},
     "output_type": "execute_result"
    },
    {
     "data": {
      "text/plain": [
       "nn.SpatialBatchNormalization params: write 256 bytes\t\n"
      ]
     },
     "execution_count": 4,
     "metadata": {},
     "output_type": "execute_result"
    },
    {
     "data": {
      "text/plain": [
       "nn.SpatialBatchNormalization act: write 200704 bytes\t\n"
      ]
     },
     "execution_count": 4,
     "metadata": {},
     "output_type": "execute_result"
    },
    {
     "data": {
      "text/plain": [
       "nn.ReLU act: write 200704 bytes\t\n"
      ]
     },
     "execution_count": 4,
     "metadata": {},
     "output_type": "execute_result"
    },
    {
     "data": {
      "text/plain": [
       "nn.SpatialConvolution params: write 36928 bytes\t\n"
      ]
     },
     "execution_count": 4,
     "metadata": {},
     "output_type": "execute_result"
    },
    {
     "data": {
      "text/plain": [
       "nn.SpatialConvolution act: write 200704 bytes\t\n"
      ]
     },
     "execution_count": 4,
     "metadata": {},
     "output_type": "execute_result"
    },
    {
     "data": {
      "text/plain": [
       "nn.SpatialBatchNormalization params: write 256 bytes\t\n"
      ]
     },
     "execution_count": 4,
     "metadata": {},
     "output_type": "execute_result"
    },
    {
     "data": {
      "text/plain": [
       "nn.SpatialBatchNormalization act: write 200704 bytes\t\n"
      ]
     },
     "execution_count": 4,
     "metadata": {},
     "output_type": "execute_result"
    },
    {
     "data": {
      "text/plain": [
       "nn.ReLU act: write 200704 bytes\t\n"
      ]
     },
     "execution_count": 4,
     "metadata": {},
     "output_type": "execute_result"
    },
    {
     "data": {
      "text/plain": [
       "nn.SpatialConvolution params: write 16640 bytes\t\n"
      ]
     },
     "execution_count": 4,
     "metadata": {},
     "output_type": "execute_result"
    },
    {
     "data": {
      "text/plain": [
       "nn.SpatialConvolution act: write 802816 bytes\t\n"
      ]
     },
     "execution_count": 4,
     "metadata": {},
     "output_type": "execute_result"
    },
    {
     "data": {
      "text/plain": [
       "nn.SpatialBatchNormalization params: write 1024 bytes\t\n"
      ]
     },
     "execution_count": 4,
     "metadata": {},
     "output_type": "execute_result"
    },
    {
     "data": {
      "text/plain": [
       "nn.SpatialBatchNormalization act: write 802816 bytes\t\n"
      ]
     },
     "execution_count": 4,
     "metadata": {},
     "output_type": "execute_result"
    },
    {
     "data": {
      "text/plain": [
       "nn.SpatialConvolution params: write 16640 bytes\t\n"
      ]
     },
     "execution_count": 4,
     "metadata": {},
     "output_type": "execute_result"
    },
    {
     "data": {
      "text/plain": [
       "nn.SpatialConvolution act: write 802816 bytes\t\n"
      ]
     },
     "execution_count": 4,
     "metadata": {},
     "output_type": "execute_result"
    },
    {
     "data": {
      "text/plain": [
       "nn.SpatialBatchNormalization params: write 1024 bytes\t\n"
      ]
     },
     "execution_count": 4,
     "metadata": {},
     "output_type": "execute_result"
    },
    {
     "data": {
      "text/plain": [
       "nn.SpatialBatchNormalization act: write 802816 bytes\t\n"
      ]
     },
     "execution_count": 4,
     "metadata": {},
     "output_type": "execute_result"
    },
    {
     "data": {
      "text/plain": [
       "nn.CAddTable act: write 802816 bytes\t\n"
      ]
     },
     "execution_count": 4,
     "metadata": {},
     "output_type": "execute_result"
    },
    {
     "data": {
      "text/plain": [
       "nn.ReLU act: write 802816 bytes\t\n"
      ]
     },
     "execution_count": 4,
     "metadata": {},
     "output_type": "execute_result"
    },
    {
     "data": {
      "text/plain": [
       "nn.SpatialConvolution params: write 16448 bytes\t\n"
      ]
     },
     "execution_count": 4,
     "metadata": {},
     "output_type": "execute_result"
    },
    {
     "data": {
      "text/plain": [
       "nn.SpatialConvolution act: write 200704 bytes\t\n"
      ]
     },
     "execution_count": 4,
     "metadata": {},
     "output_type": "execute_result"
    },
    {
     "data": {
      "text/plain": [
       "nn.SpatialBatchNormalization params: write 256 bytes\t\n"
      ]
     },
     "execution_count": 4,
     "metadata": {},
     "output_type": "execute_result"
    }
   ],
   "source": [
    "image = data[1]:view(1, 3, 224, 224)\n",
    "writerParam = assert(io.open('sixiao/param.bin', 'wb'))\n",
    "writerAct = assert(io.open('sixiao/act.bin', 'wb'))\n",
    "traverse(writerParam, writerAct, modelCPU, image)\n",
    "writerParam:close()\n",
    "writerAct:close()"
   ]
  }
 ],
 "metadata": {
  "kernelspec": {
   "display_name": "iTorch",
   "language": "lua",
   "name": "itorch"
  },
  "language_info": {
   "name": "lua",
   "version": "5.1"
  }
 },
 "nbformat": 4,
 "nbformat_minor": 0
}
