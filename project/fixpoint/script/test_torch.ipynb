{
 "cells": [
  {
   "cell_type": "code",
   "execution_count": 4,
   "metadata": {
    "collapsed": true
   },
   "outputs": [],
   "source": [
    "function quantization(x, nInt, nFrac)\n",
    "    local M = 2 ^ (nInt + nFrac) - 1\n",
    "    local delta = 2 ^ -nFrac\n",
    "    local sign = torch.sign(x)\n",
    "    local floor = torch.floor(torch.abs(x) / delta + 0.5)\n",
    "    local min = torch.cmin(floor, (M - 1) / 2.0)\n",
    "    local raw = torch.mul(torch.cmul(min, sign), delta)\n",
    "    return raw\n",
    "end\n"
   ]
  },
  {
   "cell_type": "code",
   "execution_count": 5,
   "metadata": {
    "collapsed": false
   },
   "outputs": [
    {
     "data": {
      "text/plain": [
       "-160\n",
       "[torch.FloatTensor of size 1x1]\n",
       "\n"
      ]
     },
     "execution_count": 5,
     "metadata": {},
     "output_type": "execute_result"
    }
   ],
   "source": [
    "x = torch.FloatTensor(1, 1):fill(-153.6328125)\n",
    "x1 = quantization(x * 2 ^-12, 1, 7) * 2^12\n",
    "print(x1)"
   ]
  },
  {
   "cell_type": "code",
   "execution_count": null,
   "metadata": {
    "collapsed": true
   },
   "outputs": [],
   "source": [
    "-153.6328125"
   ]
  },
  {
   "cell_type": "code",
   "execution_count": 4,
   "metadata": {
    "collapsed": false
   },
   "outputs": [
    {
     "data": {
      "text/plain": [
       "-253\n",
       "[torch.IntTensor of size 1x1]\n",
       "\n"
      ]
     },
     "execution_count": 4,
     "metadata": {},
     "output_type": "execute_result"
    }
   ],
   "source": [
    "x = torch.FloatTensor(1, 1):fill(-253.91)\n",
    "print(x:int())"
   ]
  },
  {
   "cell_type": "code",
   "execution_count": null,
   "metadata": {
    "collapsed": true
   },
   "outputs": [],
   "source": [
    "torch.round"
   ]
  }
 ],
 "metadata": {
  "kernelspec": {
   "display_name": "iTorch",
   "language": "lua",
   "name": "itorch"
  },
  "language_info": {
   "name": "lua",
   "version": "5.1"
  }
 },
 "nbformat": 4,
 "nbformat_minor": 0
}
